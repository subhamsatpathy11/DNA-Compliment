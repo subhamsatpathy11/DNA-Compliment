{
 "cells": [
  {
   "cell_type": "code",
   "execution_count": 7,
   "metadata": {},
   "outputs": [
    {
     "name": "stdout",
     "output_type": "stream",
     "text": [
      "Initial Sequence - AGCGTCGAGT\n",
      "Compliment is -  TCGCAGCTCA\n",
      "Reverse is -  ACTCGACGCT\n"
     ]
    }
   ],
   "source": [
    "#DNA occurs as a double strand where each A is paired with a T and vice versa, \n",
    "#and each C is paired with a G and vice versa. The reverse complement of \n",
    "#a DNA sequence is formed by reversing the letters, \n",
    "#interchanging A and T and interchanging C and G.\n",
    "\n",
    "def replace(s, c1, c2): \n",
    "    l = len(s) \n",
    "    for i in range(l): \n",
    "        # check for c1 and replace \n",
    "        if (s[i] == c1): \n",
    "            s = s[0:i] + c2 + s[i + 1:] \n",
    "        # check for c2 and replace \n",
    "        elif (s[i] == c2): \n",
    "            s = s[0:i] + c1 + s[i + 1:] \n",
    "    return s \n",
    "    \n",
    "def replace_again(x, g1, g2): \n",
    "    j = len(x)  \n",
    "    for i in range(j): \n",
    "        # check for g1 and replace \n",
    "        if (x[i] == g1): \n",
    "            x = x[0:i] + g2 + x[i + 1:] \n",
    "        # check for g2 and replace \n",
    "        elif (x[i] == g2): \n",
    "            x = x[0:i] + g1 + x[i + 1:] \n",
    "    return x \n",
    "  \n",
    "# Driver Code \n",
    "if __name__ == '__main__': \n",
    "    s = \"AGCGTCGAGT\"\n",
    "    print(\"Initial Sequence -\",s)\n",
    "    #define replacing characters\n",
    "    c1 = 'A'\n",
    "    c2 = 'T'\n",
    "    g1 = 'G'\n",
    "    g2 = 'C'\n",
    "    m = (replace_again(replace(s, c1, c2), g1, g2))\n",
    "    print(\"Compliment is - \",m)\n",
    "    rev = m[::-1]\n",
    "    print(\"Reverse is - \",rev)"
   ]
  },
  {
   "cell_type": "code",
   "execution_count": null,
   "metadata": {
    "collapsed": true
   },
   "outputs": [],
   "source": []
  }
 ],
 "metadata": {
  "kernelspec": {
   "display_name": "Python 3",
   "language": "python",
   "name": "python3"
  },
  "language_info": {
   "codemirror_mode": {
    "name": "ipython",
    "version": 3
   },
   "file_extension": ".py",
   "mimetype": "text/x-python",
   "name": "python",
   "nbconvert_exporter": "python",
   "pygments_lexer": "ipython3",
   "version": "3.6.1"
  }
 },
 "nbformat": 4,
 "nbformat_minor": 2
}
